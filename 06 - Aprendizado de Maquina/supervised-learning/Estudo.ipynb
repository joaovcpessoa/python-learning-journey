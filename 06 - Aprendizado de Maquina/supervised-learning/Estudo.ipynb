{
 "cells": [
  {
   "cell_type": "markdown",
   "metadata": {},
   "source": [
    "# Supervised Learning\n",
    "\n",
    "No aprendizado supervisionado, o conjunto de treinamento que você alimenta o algoritmo inclui as soluções desejadas, chamadas rótulos.\n",
    "\n",
    "Duas tarefas típicas de aprendizagem supervisionada são:\n",
    "\n",
    "<b>Classificação</b>: O filtro de spam é um bom exemplo disso, ele é treinado com vários exemplos de e-mails junto com sua classe (spam ou ham), e deve aprender a classificar novos e-mails. \n",
    "\n",
    "<b>Regressão</b>: Prever um valor numérico alvo, como o preço de um carro, dado um conjunto de características (quilometragem, idade, marca, etc.) chamadas preditores.\n",
    "\n",
    "Observe que alguns algoritmos de regressão também podem ser usados para classificação e vice-versa. \n",
    "\n",
    "Por exemplo, a regressão logística é comumente usada para classificação, pois pode gerar um valor que corresponde à probabilidade de pertencer a uma determinada classe (por exemplo, 20% de chance de ser spam).\n",
    "\n",
    "Aqui estão alguns dos algoritmos de aprendizagem supervisionada mais importantes:\n",
    "\n",
    "- K-vizinhos mais próximos\n",
    "- Regressão linear\n",
    "- Regressão Logística\n",
    "- Máquinas de vetores de suporte (SVMs)\n",
    "- Árvores de Decisão e Florestas Aleatórias\n",
    "- Redes neurais"
   ]
  }
 ],
 "metadata": {
  "language_info": {
   "name": "python"
  },
  "orig_nbformat": 4
 },
 "nbformat": 4,
 "nbformat_minor": 2
}
