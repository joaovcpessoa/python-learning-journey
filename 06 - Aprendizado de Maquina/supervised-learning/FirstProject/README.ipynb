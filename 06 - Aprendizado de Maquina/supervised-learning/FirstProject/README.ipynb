{
 "cells": [
  {
   "cell_type": "markdown",
   "metadata": {},
   "source": [
    "Este conjunto de dados é baseado em dados do censo da Califórnia de 1990. Não é exatamente recente, mas tem muitas qualidades para o aprendizado, então vamos fingir que são dados recentes. Para fins de ensino, adicionei um atributo categórico e removi alguns recursos.\n",
    "\n",
    "Sua primeira tarefa é usar os dados do censo da Califórnia para construir um modelo de preços de moradias no estado. Esses dados incluem métricas como população, renda média e preço médio da habitação para cada grupo de quarteirões na Califórnia. Os grupos de quarteirões são a menor unidade geográfica para a qual o US Census Bureau publica dados de amostra (um grupo de quarteirões normalmente tem uma população de 600 a 3.000 pessoas). Vamos chamá-los abreviadamente de “distritos”.\n",
    "\n",
    "O seu modelo deve aprender com estes dados e ser capaz de prever o preço médio da habitação em qualquer distrito, tendo em conta todas as outras métricas.\n",
    "\n",
    "### Passo 1: Enquadre o problema\n",
    "\n",
    "A primeira pergunta a fazer ao seu chefe é qual é exatamente o objetivo do negócio. Construir um modelo provavelmente não é o objetivo final. Como a empresa espera usar e se beneficiar desse modelo? Conhecer o objetivo é importante porque determinará como você enquadra o problema, quais algoritmos você selecionará, qual medida de desempenho usará para avaliar seu modelo e quanto esforço você gastará para ajustá-lo.\n",
    "\n",
    "Seu chefe responde que o resultado do seu modelo (uma previsão do preço médio da habitação em um distrito) será alimentado em outro sistema de aprendizado de máquina, juntamente com muitos outros sinais. Este sistema posterior determinará se vale a pena investir numa determinada área ou não. Fazer isso da maneira certa é fundamental, pois afeta diretamente as receitas.\n",
    "\n",
    "![Alt text](images\\image.png)\n",
    "\n",
    "Uma sequência de componentes de processamento de dados é chamada de <b>pipeline de dados</b>.\n",
    "\n",
    "Pipelines são muito comuns em sistemas de Machine Learning, pois há muitos dados para manipular e muitas transformações de dados para aplicar. \n",
    "Os componentes normalmente são executados de forma assíncrona. Cada componente extrai uma grande quantidade de dados, processa-os e exibe o resultado em outro armazenamento de dados. Então, algum tempo depois, o próximo componente no pipeline extrai esses dados e gera sua própria saída. Cada componente é bastante independente:\n",
    "\n",
    "A interface entre os componentes é simplesmente o armazenamento de dados. Isso torna o sistema simples de entender (com a ajuda de um gráfico de fluxo de dados), e diferentes equipes podem se concentrar em diferentes componentes. Além disso, se um componente quebrar, os componentes posteriores muitas vezes podem continuar a funcionar normalmente (pelo menos por um tempo) usando apenas a última saída do componente quebrado. Isso torna a arquitetura bastante robusta. Por outro lado, um componente quebrado pode passar despercebido por algum tempo se o monitoramento adequado não for implementado. Os dados ficam obsoletos e o desempenho geral do sistema cai.\n",
    "\n",
    "A próxima pergunta a ser feita ao seu chefe é como é a solução atual (se houver). A situação atual muitas vezes lhe dará uma referência de desempenho, bem como insights sobre como resolver o problema. O seu chefe responde que os preços da habitação distrital são atualmente estimados manualmente por especialistas: uma equipe reúne informações atualizadas sobre um distrito e, quando não conseguem obter o preço médio da habitação, estimam-no utilizando regras complexas.\n",
    "Isto é caro e demorado, e as estimativas não são boas; nos casos em que conseguem descobrir o preço médio real da habitação, muitas vezes percebem que as suas estimativas estavam erradas em mais de 20%. É por isso que a empresa pensa que seria útil treinar um modelo para prever o preço médio da habitação num distrito, dados outros dados sobre esse distrito. Os dados do censo parecem ser um excelente conjunto de dados a explorar para este fim, uma vez que incluem os preços médios da habitação de milhares de distritos, bem como outros dados."
   ]
  }
 ],
 "metadata": {
  "language_info": {
   "name": "python"
  },
  "orig_nbformat": 4
 },
 "nbformat": 4,
 "nbformat_minor": 2
}
