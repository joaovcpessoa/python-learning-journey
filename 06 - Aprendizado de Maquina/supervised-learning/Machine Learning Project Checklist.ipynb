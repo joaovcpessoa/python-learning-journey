{
 "cells": [
  {
   "cell_type": "markdown",
   "metadata": {},
   "source": [
    "Esta lista de verificação pode orientá-lo em seus projetos de aprendizado de máquina.\n",
    "\n",
    "Existem oito etapas principais:\n",
    "\n",
    "1. Enquadre o problema e tenha uma visão geral.\n",
    "2. Obtenha os dados.\n",
    "3. Explore os dados para obter insights.\n",
    "4. Prepare os dados para expor melhor os padrões de dados subjacentes aos algoritmos de Machine Learning.\n",
    "5. Explore muitos modelos diferentes e selecione os melhores.\n",
    "6. Ajuste seus modelos e combine-os em uma ótima solução.\n",
    "7. Apresente sua solução.\n",
    "8. Inicie, monitore e mantenha seu sistema.\n",
    "\n",
    "Obviamente, você deve se sentir à vontade para adaptar esta lista de verificação às suas necessidades."
   ]
  }
 ],
 "metadata": {
  "language_info": {
   "name": "python"
  },
  "orig_nbformat": 4
 },
 "nbformat": 4,
 "nbformat_minor": 2
}
